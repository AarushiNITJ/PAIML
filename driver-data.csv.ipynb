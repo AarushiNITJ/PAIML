{
 "cells": [
  {
   "cell_type": "code",
   "execution_count": 4,
   "id": "811a7110-d8bf-4462-ade5-9cf61ad881c0",
   "metadata": {},
   "outputs": [],
   "source": [
    "import pandas as pd\n",
    "\n",
    "data = {\n",
    "    'id': [\"P1\", \"P2\", \"P3\", \"P4\",\"P5\",\"P6\",\"P7\",\"P8\",\"P9\",\"P10\",\"P11\",\"P12\",\"P13\",\"P14\",\"P15\"],\n",
    "    'X': [2,2,11,6,6,1,5,4,10,7,9,4,3,3,6],\n",
    "    'Y': [10,6,11,9,4,2,10,9,12,5,11,6,10,8,11],\n",
    "}\n",
    "\n",
    "\n",
    "df = pd.DataFrame(data)\n",
    "\n",
    "df.to_csv('driver-data.csv', index=False)\n"
   ]
  },
  {
   "cell_type": "code",
   "execution_count": null,
   "id": "8e1c0eb9-3e21-4568-8203-4595f5376dd6",
   "metadata": {},
   "outputs": [],
   "source": []
  }
 ],
 "metadata": {
  "kernelspec": {
   "display_name": "Python 3 (ipykernel)",
   "language": "python",
   "name": "python3"
  },
  "language_info": {
   "codemirror_mode": {
    "name": "ipython",
    "version": 3
   },
   "file_extension": ".py",
   "mimetype": "text/x-python",
   "name": "python",
   "nbconvert_exporter": "python",
   "pygments_lexer": "ipython3",
   "version": "3.12.4"
  }
 },
 "nbformat": 4,
 "nbformat_minor": 5
}
